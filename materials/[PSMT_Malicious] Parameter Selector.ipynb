{
 "cells": [
  {
   "cell_type": "markdown",
   "id": "7823ae3a",
   "metadata": {},
   "source": [
    "### [PSMT_Malicious] Project (ND&HYU Collaboration)\n",
    "- Mathematical Construction of Approximated VAF and Analysis\n",
    "- Seunghun Paik"
   ]
  },
  {
   "cell_type": "code",
   "execution_count": 1,
   "id": "93a65a8b",
   "metadata": {},
   "outputs": [],
   "source": [
    "# Libraries\n",
    "import numpy as np\n",
    "import matplotlib.pyplot as plt\n",
    "import math\n",
    "from tqdm.auto import tqdm"
   ]
  },
  {
   "cell_type": "markdown",
   "id": "1fc13a20",
   "metadata": {},
   "source": [
    "### Helper Tools"
   ]
  },
  {
   "cell_type": "code",
   "execution_count": 2,
   "id": "4b519263",
   "metadata": {},
   "outputs": [],
   "source": [
    "# Helper Function to Plot Functions\n",
    "def plot_single(fn, lb, ub, **kwargs):\n",
    "    npoint = min(int(ub-lb), 1001)\n",
    "    npoint = max(npoint, 10001)\n",
    "    base = np.linspace(lb, ub, npoint)\n",
    "    ret = fn(base, **kwargs)\n",
    "    plt.plot(base, ret)\n",
    "    "
   ]
  },
  {
   "cell_type": "markdown",
   "id": "daf576a2",
   "metadata": {},
   "source": [
    "### Core Functions"
   ]
  },
  {
   "cell_type": "code",
   "execution_count": 3,
   "id": "260674c1",
   "metadata": {},
   "outputs": [],
   "source": [
    "# Single Operation\n",
    "def wDEPSingle(x, k):\n",
    "    # 3\\sqrt{3} / 2k\\sqrt{k} * x * (k - x^2)\n",
    "    return pow(27/4, 0.5) / pow(k, 1.5) * x * (k - x ** 2)\n",
    "\n",
    "# Weak DEP\n",
    "def wDEP(x, k, L, R, n):\n",
    "    coeff = pow(L, n-1) * R\n",
    "    x = x / coeff\n",
    "    coeff = pow(27/4, 0.5) / pow(k, 1.5)\n",
    "    for i in range(n-1, -1, -1):\n",
    "        x = (k * x - x ** 3)\n",
    "        if i > 0 :\n",
    "            x = x * L * coeff\n",
    "        else:\n",
    "            x = x * R * coeff\n",
    "    return x\n",
    "    \n",
    "# Transformation and Squaring\n",
    "def polyVAF(x, n):\n",
    "    # Start Function: (1 - 1.5x^2)^2\n",
    "    x = (1 - 1.5 * x ** 2) ** 2\n",
    "    for i in range(n):\n",
    "        # x -> (1.5 * x - 0.5) ** 2\n",
    "        x = (1.5 * x - 0.5) ** 2\n",
    "        \n",
    "    for i in range(4):\n",
    "        x = x ** 2\n",
    "    return x\n",
    "\n",
    "# Naive Squaring\n",
    "def squareVAF(x, n):\n",
    "    x = (1 - 1.5 * x ** 2) ** 2\n",
    "    for i in range(n):\n",
    "        x = x ** 2\n",
    "    return x"
   ]
  },
  {
   "cell_type": "markdown",
   "id": "5313dd21",
   "metadata": {},
   "source": [
    "### Tools for Analysis"
   ]
  },
  {
   "cell_type": "code",
   "execution_count": 4,
   "id": "9492822d",
   "metadata": {},
   "outputs": [],
   "source": [
    "# Finds the epsilon parameter for VAFs\n",
    "def compute_crit_pt(f, bd, n_iter = 1000, **kwargs):\n",
    "    lower = 0 \n",
    "    upper = 1e-12\n",
    "    \n",
    "    while (f(upper, **kwargs) > bd):\n",
    "        upper *= 10\n",
    "        \n",
    "        # In this case, there is no point less than bd\n",
    "        if upper >= 1:\n",
    "            return 1\n",
    "\n",
    "    for i in range(n_iter):\n",
    "        mid = (lower + upper) / 2\n",
    "        fmid = f(mid, **kwargs) - bd\n",
    "        \n",
    "        if fmid > 0 :\n",
    "            lower = mid            \n",
    "        else:\n",
    "            upper = mid\n",
    "    \n",
    "    return mid"
   ]
  },
  {
   "cell_type": "code",
   "execution_count": 5,
   "id": "c948e5d5",
   "metadata": {},
   "outputs": [],
   "source": [
    "# This function computes the root of f1(X) = f2(X)\n",
    "# For a constant function, it behaves as the root finding algorithm. (Bisection Search)\n",
    "def solver(f1, f2, lo, hi, **kwargs):\n",
    "    v1 = f1(lo, **kwargs) - f2(lo)\n",
    "    v2 = f1(hi, **kwargs) - f2(hi)\n",
    "    \n",
    "    if v1 < 0 and v2 > 0:\n",
    "        lo, hi = hi, lo\n",
    "    \n",
    "    for i in range(1000):\n",
    "        mid = (lo + hi) / 2\n",
    "        vmid = f1(mid, **kwargs) - f2(mid)\n",
    "        if vmid > 0:\n",
    "            lo = mid\n",
    "        else:\n",
    "            hi = mid\n",
    "            \n",
    "    return mid\n",
    "        \n",
    "# Inverse of the weak DEP functions for the range (-\\sqrt{k/3}, \\sqrt{k/3})\n",
    "# Here, *local* inverse is well-defined on this domain\n",
    "def inv_f(v, k):\n",
    "    return solver(wDEPSingle, lambda x: v, 0, pow(k/3, 0.5), k = k)\n",
    "\n",
    "# This function calculates the first peak of the wDEPs closest to the origin.\n",
    "# That is, this function tells us the domain where wDEPs behaves monotonically.\n",
    "def firstPeak(k, L, R, n):\n",
    "    start = pow(k/3, 0.5)\n",
    "    for i in range(1,n):\n",
    "        start = start / L\n",
    "        start = inv_f(start, k)        \n",
    "    return start* pow(L, n-1) * R"
   ]
  },
  {
   "cell_type": "code",
   "execution_count": 6,
   "id": "083d9a0b",
   "metadata": {},
   "outputs": [],
   "source": [
    "# Depth Calculator\n",
    "# Greedy-Type Algorithm\n",
    "def greedy_depth(val):\n",
    "    ret = 0\n",
    "    \n",
    "    while val > 0:\n",
    "        if val >= 4:\n",
    "            val -= 4\n",
    "            ret += 5\n",
    "            \n",
    "        elif val >= 3:\n",
    "            val -= 3\n",
    "            ret += 4\n",
    "        elif val >= 2:\n",
    "            val -= 2\n",
    "            ret += 3\n",
    "        else:\n",
    "            val -= 1\n",
    "            ret += 2\n",
    "    return ret"
   ]
  },
  {
   "cell_type": "markdown",
   "id": "ffebb81c",
   "metadata": {},
   "source": [
    "### Parameter Selector"
   ]
  },
  {
   "cell_type": "code",
   "execution_count": 7,
   "id": "0b4d3d81",
   "metadata": {},
   "outputs": [],
   "source": [
    "# Parameter Selection\n",
    "# k: params for weak DEP\n",
    "# L: Expansion Rate\n",
    "# M: Desirable domain (The resulting DEP will be defined over [-M, M])\n",
    "def DEPSelector(k, L, M):\n",
    "    # Avoid Invalid Parameters\n",
    "    assert(L**2 < k)\n",
    "    \n",
    "    # Do a grid search with respect to R & n\n",
    "    Rs = np.linspace(1, M, min(M, 1001))\n",
    "    ns = np.ceil(np.log2(M/Rs) / math.log2(L)).astype(int)\n",
    "    \n",
    "    # Analysis on the tail value\n",
    "    fL = wDEPSingle(L, k)\n",
    "    retdict = dict()\n",
    "    \n",
    "    best_key = None\n",
    "    best_depth = 10000\n",
    "    best_range = 0\n",
    "    \n",
    "    # Do operations\n",
    "    for (R, n) in tqdm(zip(Rs, ns), total = len(Rs)):\n",
    "        # If we don't need to run DEPs?\n",
    "        if n == 0:\n",
    "            e_sep = 1/R\n",
    "            ret = 1\n",
    "            i_new = 0\n",
    "            # Compute the epsilon for VAFs\n",
    "            while True:\n",
    "                ret = compute_crit_pt(polyVAF, pow(2, -20), n=i_new)\n",
    "                if ret < e_sep:\n",
    "                    break\n",
    "                i_new += 1\n",
    "            # Depth 7 comes from 4 squarings & 3 Ops to compute the first function\n",
    "            depth_vaf = greedy_depth(i_new) + 7\n",
    "            \n",
    "            ret = 1\n",
    "            i_sq = 0\n",
    "            # Compute the epsilon for VAFs (from squaring)\n",
    "            while True:\n",
    "                ret = compute_crit_pt(squareVAF, pow(2, -20), n=i_sq)\n",
    "                if ret < e_sep:\n",
    "                    break\n",
    "                i_sq += 1\n",
    "            # Depth 3 comes from computing the first function\n",
    "            depth_sq = i_sq+3\n",
    "            \n",
    "            retdict[(R,n)] = {\n",
    "                \"depth\": min(depth_vaf, depth_sq) + 1,\n",
    "                \"depth_from_vaf\": min(depth_vaf, depth_sq),\n",
    "                \"e_sep\": 1/R,\n",
    "                \"n_fn\": i_new if depth_vaf < depth_sq else i_sq,\n",
    "                \"new\": depth_vaf < depth_sq,\n",
    "                \"range\": R\n",
    "            }   \n",
    "            \n",
    "            curr_depth = min(depth_vaf, depth_sq) + 1\n",
    "            curr_range = R\n",
    "            \n",
    "            # Record & Update the minimum depth data\n",
    "            if curr_depth < best_depth:\n",
    "                best_depth = curr_depth\n",
    "                best_range = curr_range\n",
    "                best_key = (R,n)\n",
    "            elif curr_depth == best_depth and curr_range > best_range:\n",
    "                best_range = curr_range\n",
    "                best_key = (R,n)\n",
    "                \n",
    "        else:\n",
    "            # Evaluation Result of 1 is also imporant\n",
    "            f1 = wDEP(1, k = k, L = L, R = R, n = n) / R\n",
    "            \n",
    "            # Check If the function monotonically increases from 0 to 1.\n",
    "            critpt = firstPeak(k, L, R, n)\n",
    "            \n",
    "            # If not?\n",
    "            if critpt < 1:\n",
    "                # In this case, f(1) would not give a meaningful information\n",
    "                e_sep = fL\n",
    "            else:\n",
    "                # Compute the separation parameter of wDEP\n",
    "                e_sep = min(fL, f1)\n",
    "            ret = 1\n",
    "            i_new = 0\n",
    "            while True:\n",
    "                ret = compute_crit_pt(polyVAF, pow(2, -20), n=i_new)\n",
    "                if ret < e_sep:\n",
    "                    break\n",
    "                i_new += 1\n",
    "            # Compared to previous code, we can save 1 additional depth \n",
    "            # by merging the last scalar multiplication of DEP and scalar multiplication for computing 1.5x^2\n",
    "            depth_vaf = greedy_depth(i_new) + 6\n",
    "            \n",
    "            ret = 1\n",
    "            i_sq = 0\n",
    "            while True:\n",
    "                ret = compute_crit_pt(squareVAF, pow(2, -20), n=i_sq)\n",
    "                if ret < e_sep:\n",
    "                    break\n",
    "                i_sq += 1\n",
    "            depth_sq = i_sq + 2\n",
    "            \n",
    "            curr_range = n * math.log2(L) + math.log2(R)\n",
    "            # Note that DEP requires 2n + 1 depths\n",
    "            retdict[(R,n)] = {\n",
    "                \"depth\": 2 * n + min(depth_vaf, depth_sq) + 1,\n",
    "                \"n_dep\": n,\n",
    "                \"e_sep\": e_sep,\n",
    "                \"depth_from_vaf\": min(depth_vaf, depth_sq),\n",
    "                \"n_fn\": i_new if depth_vaf < depth_sq else i_sq,\n",
    "                \"new\": depth_vaf < depth_sq,\n",
    "                \"range\": curr_range\n",
    "            }   \n",
    "            curr_depth = 2 * n + min(depth_vaf, depth_sq) + 1\n",
    "            \n",
    "            # Record and Update the minimum depth data\n",
    "            if curr_depth < best_depth:\n",
    "                best_depth = curr_depth\n",
    "                best_range = curr_range\n",
    "                best_key = (R,n)\n",
    "            elif curr_depth == best_depth and curr_range > best_range:\n",
    "                best_range = curr_range\n",
    "                best_key = (R,n) \n",
    "        \n",
    "    print(\"Minimal Depth (R,n)=\", best_key, retdict[best_key])\n",
    "        \n",
    "    return best_key, retdict\n"
   ]
  },
  {
   "cell_type": "markdown",
   "id": "67f3db61",
   "metadata": {},
   "source": [
    "### Example Runs"
   ]
  },
  {
   "cell_type": "code",
   "execution_count": 8,
   "id": "4bf93715",
   "metadata": {},
   "outputs": [
    {
     "data": {
      "application/vnd.jupyter.widget-view+json": {
       "model_id": "0213e30edcdb48809e4af7d126718d8c",
       "version_major": 2,
       "version_minor": 0
      },
      "text/plain": [
       "  0%|          | 0/1001 [00:00<?, ?it/s]"
      ]
     },
     "metadata": {},
     "output_type": "display_data"
    },
    {
     "name": "stdout",
     "output_type": "stream",
     "text": [
      "Minimal Depth (R,n)= (357.265, 4) {'depth': 25, 'n_dep': 4, 'e_sep': 0.006297801763796971, 'depth_from_vaf': 16, 'n_fn': 8, 'new': True, 'range': 12.48085077484337}\n"
     ]
    },
    {
     "data": {
      "application/vnd.jupyter.widget-view+json": {
       "model_id": "c509c31e9b2545819c48570294285bf3",
       "version_major": 2,
       "version_minor": 0
      },
      "text/plain": [
       "  0%|          | 0/1001 [00:00<?, ?it/s]"
      ]
     },
     "metadata": {},
     "output_type": "display_data"
    },
    {
     "name": "stdout",
     "output_type": "stream",
     "text": [
      "Minimal Depth (R,n)= (91.08999999999999, 4) {'depth': 24, 'n_dep': 4, 'e_sep': 0.010977923238173573, 'depth_from_vaf': 15, 'n_fn': 7, 'new': True, 'range': 12.00102916797928}\n"
     ]
    },
    {
     "data": {
      "application/vnd.jupyter.widget-view+json": {
       "model_id": "e34558b1193f4827a4889e9e49c56be7",
       "version_major": 2,
       "version_minor": 0
      },
      "text/plain": [
       "  0%|          | 0/1001 [00:00<?, ?it/s]"
      ]
     },
     "metadata": {},
     "output_type": "display_data"
    },
    {
     "name": "stdout",
     "output_type": "stream",
     "text": [
      "Minimal Depth (R,n)= (1.0, 6) {'depth': 24, 'n_dep': 6, 'e_sep': 0.06255547396645149, 'depth_from_vaf': 11, 'n_fn': 4, 'new': True, 'range': 12.0}\n"
     ]
    }
   ],
   "source": [
    "k = 4.5\n",
    "L = 2\n",
    "best_key, retdict = DEPSelector(k, L, 1<<12)\n",
    "\n",
    "k = 27/4\n",
    "L = 2.59\n",
    "best_key, retdict = DEPSelector(k, L, 1<<12)\n",
    "\n",
    "k = 17\n",
    "L = 4\n",
    "best_key, retdict = DEPSelector(k, L, 1<<12)"
   ]
  },
  {
   "cell_type": "code",
   "execution_count": 9,
   "id": "1f6c1e2c",
   "metadata": {},
   "outputs": [
    {
     "data": {
      "application/vnd.jupyter.widget-view+json": {
       "model_id": "fe7385600a9c428d84adb66c438f38c2",
       "version_major": 2,
       "version_minor": 0
      },
      "text/plain": [
       "  0%|          | 0/1001 [00:00<?, ?it/s]"
      ]
     },
     "metadata": {},
     "output_type": "display_data"
    },
    {
     "name": "stdout",
     "output_type": "stream",
     "text": [
      "Minimal Depth (R,n)= (656.3499999999999, 7) {'depth': 31, 'n_dep': 7, 'e_sep': 0.006297683851748112, 'depth_from_vaf': 16, 'n_fn': 8, 'new': True, 'range': 16.358321529937218}\n"
     ]
    },
    {
     "data": {
      "application/vnd.jupyter.widget-view+json": {
       "model_id": "57f4943b7ff54c688fe9a02e5a93e452",
       "version_major": 2,
       "version_minor": 0
      },
      "text/plain": [
       "  0%|          | 0/1001 [00:00<?, ?it/s]"
      ]
     },
     "metadata": {},
     "output_type": "display_data"
    },
    {
     "name": "stdout",
     "output_type": "stream",
     "text": [
      "Minimal Depth (R,n)= (132.07, 7) {'depth': 31, 'n_dep': 7, 'e_sep': 0.007571666680962719, 'depth_from_vaf': 16, 'n_fn': 8, 'new': True, 'range': 16.655823667506642}\n"
     ]
    },
    {
     "data": {
      "application/vnd.jupyter.widget-view+json": {
       "model_id": "bfadd27935d54e888ff1624709ac03f7",
       "version_major": 2,
       "version_minor": 0
      },
      "text/plain": [
       "  0%|          | 0/1001 [00:00<?, ?it/s]"
      ]
     },
     "metadata": {},
     "output_type": "display_data"
    },
    {
     "name": "stdout",
     "output_type": "stream",
     "text": [
      "Minimal Depth (R,n)= (5112.73, 2) {'depth': 31, 'n_dep': 2, 'e_sep': 7.766082369278072e-05, 'depth_from_vaf': 26, 'n_fn': 16, 'new': True, 'range': 16.31987812489656}\n"
     ]
    }
   ],
   "source": [
    "k = 4.5\n",
    "L = 2\n",
    "best_key, retdict = DEPSelector(k, L, 1<<16)\n",
    "\n",
    "k = 27/4\n",
    "L = 2.59\n",
    "best_key, retdict = DEPSelector(k, L, 1<<16)\n",
    "\n",
    "k = 17\n",
    "L = 4\n",
    "best_key, retdict = DEPSelector(k, L, 1<<16)"
   ]
  },
  {
   "cell_type": "code",
   "execution_count": 10,
   "id": "639eb587",
   "metadata": {},
   "outputs": [
    {
     "data": {
      "application/vnd.jupyter.widget-view+json": {
       "model_id": "094d35b409f041cc91ba4e617132cbde",
       "version_major": 2,
       "version_minor": 0
      },
      "text/plain": [
       "  0%|          | 0/1001 [00:00<?, ?it/s]"
      ]
     },
     "metadata": {},
     "output_type": "display_data"
    },
    {
     "name": "stdout",
     "output_type": "stream",
     "text": [
      "Minimal Depth (R,n)= (34603.975, 5) {'depth': 37, 'n_dep': 5, 'e_sep': 7.96346650211341e-05, 'depth_from_vaf': 26, 'n_fn': 16, 'new': True, 'range': 20.078650151035674}\n"
     ]
    },
    {
     "data": {
      "application/vnd.jupyter.widget-view+json": {
       "model_id": "df7dfdd6ea764605a2fb31f6b9359820",
       "version_major": 2,
       "version_minor": 0
      },
      "text/plain": [
       "  0%|          | 0/1001 [00:00<?, ?it/s]"
      ]
     },
     "metadata": {},
     "output_type": "display_data"
    },
    {
     "name": "stdout",
     "output_type": "stream",
     "text": [
      "Minimal Depth (R,n)= (12583.900000000001, 5) {'depth': 37, 'n_dep': 5, 'e_sep': 7.946661995888676e-05, 'depth_from_vaf': 26, 'n_fn': 16, 'new': True, 'range': 20.48405198041052}\n"
     ]
    },
    {
     "data": {
      "application/vnd.jupyter.widget-view+json": {
       "model_id": "7ff4b722cf2e496ab2635e3e5bc071ef",
       "version_major": 2,
       "version_minor": 0
      },
      "text/plain": [
       "  0%|          | 0/1001 [00:00<?, ?it/s]"
      ]
     },
     "metadata": {},
     "output_type": "display_data"
    },
    {
     "name": "stdout",
     "output_type": "stream",
     "text": [
      "Minimal Depth (R,n)= (1049.575, 5) {'depth': 37, 'n_dep': 5, 'e_sep': 9.465066080089269e-05, 'depth_from_vaf': 26, 'n_fn': 16, 'new': True, 'range': 20.035589546348895}\n"
     ]
    }
   ],
   "source": [
    "k = 4.5\n",
    "L = 2\n",
    "best_key, retdict = DEPSelector(k, L, 1<<20)\n",
    "\n",
    "k = 27/4\n",
    "L = 2.59\n",
    "best_key, retdict = DEPSelector(k, L, 1<<20)\n",
    "\n",
    "k = 17\n",
    "L = 4\n",
    "best_key, retdict = DEPSelector(k, L, 1<<20)"
   ]
  }
 ],
 "metadata": {
  "kernelspec": {
   "display_name": "Python 3 (ipykernel)",
   "language": "python",
   "name": "python3"
  },
  "language_info": {
   "codemirror_mode": {
    "name": "ipython",
    "version": 3
   },
   "file_extension": ".py",
   "mimetype": "text/x-python",
   "name": "python",
   "nbconvert_exporter": "python",
   "pygments_lexer": "ipython3",
   "version": "3.9.19"
  }
 },
 "nbformat": 4,
 "nbformat_minor": 5
}
